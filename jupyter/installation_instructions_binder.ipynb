{
 "cells": [
  {
   "cell_type": "markdown",
   "id": "f4007c66",
   "metadata": {},
   "source": [
    "# Installation instructions for Binder"
   ]
  },
  {
   "cell_type": "markdown",
   "id": "0b4614a4",
   "metadata": {},
   "source": [
    "In order to run Jupyter notebooks from this site, you first need to run the following code inside the Binder environment to install required packages that are not preinstalled by default.\n",
    "\n",
    "To do so, <a href=\"https://mybinder.org/v2/gh/jborovicka/nyu-computational-dynamics/main\">launch Binder for this site</a> (after you click this link, starting the Binder environment takes a while). Once Binder is set up, click on the Python 3 Console icon on the main page. Then copy out the lines below into the console and press Shift+Enter.\n",
    "\n",
    "Then you can open the Jupyter notebooks from the <tt>jupyter/</tt> folder in the left panel in Binder.\n",
    "\n",
    "Please note that the list of packages is illustrative, and you may need to add more depending on what your notebook is using."
   ]
  },
  {
   "cell_type": "code",
   "execution_count": null,
   "id": "b9afe402",
   "metadata": {},
   "outputs": [],
   "source": [
    "# example packages\n",
    "%pip install matplotlib\n",
    "%pip install pandas\n",
    "%pip install pandas_datareader\n",
    "%pip install numpy\n",
    "%pip install datetime\n",
    "%pip install eurostat\n",
    "%pip install xlrd --trusted-host pypi.python.org --trusted-host files.pythonhosted.org --trusted-host pypi.org\n",
    "%pip install openpyxl"
   ]
  }
 ],
 "metadata": {
  "kernelspec": {
   "display_name": "Python 3 (ipykernel)",
   "language": "python",
   "name": "python3"
  },
  "language_info": {
   "codemirror_mode": {
    "name": "ipython",
    "version": 3
   },
   "file_extension": ".py",
   "mimetype": "text/x-python",
   "name": "python",
   "nbconvert_exporter": "python",
   "pygments_lexer": "ipython3",
   "version": "3.9.17"
  }
 },
 "nbformat": 4,
 "nbformat_minor": 5
}
