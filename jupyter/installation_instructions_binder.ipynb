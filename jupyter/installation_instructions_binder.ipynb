{
 "cells": [
  {
   "cell_type": "markdown",
   "id": "06bb3b6b",
   "metadata": {},
   "source": [
    "# Installation instructions for Binder"
   ]
  },
  {
   "cell_type": "markdown",
   "id": "ae62060d",
   "metadata": {},
   "source": [
    "In order to run Jupyter notebooks that produce graphs for slides, first run the following code to install required packages within the Binder environment."
   ]
  },
  {
   "cell_type": "code",
   "execution_count": null,
   "id": "cc43dade",
   "metadata": {},
   "outputs": [],
   "source": [
    "!pip install matplotlib\n",
    "!pip install pandas\n",
    "!pip install pandas_datareader\n",
    "!pip install numpy\n",
    "!pip install datetime\n",
    "!pip install eurostat\n",
    "!pip install xlrd --trusted-host pypi.python.org --trusted-host files.pythonhosted.org --trusted-host pypi.org\n",
    "!pip install openpyxl"
   ]
  }
 ],
 "metadata": {
  "kernelspec": {
   "display_name": "Python 3 (ipykernel)",
   "language": "python",
   "name": "python3"
  },
  "language_info": {
   "codemirror_mode": {
    "name": "ipython",
    "version": 3
   },
   "file_extension": ".py",
   "mimetype": "text/x-python",
   "name": "python",
   "nbconvert_exporter": "python",
   "pygments_lexer": "ipython3",
   "version": "3.9.17"
  }
 },
 "nbformat": 4,
 "nbformat_minor": 5
}
