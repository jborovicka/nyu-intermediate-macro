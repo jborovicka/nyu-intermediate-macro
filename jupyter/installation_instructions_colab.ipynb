{
 "cells": [
  {
   "cell_type": "markdown",
   "id": "110ebf80",
   "metadata": {},
   "source": [
    "# Installation instructions for Google Colab"
   ]
  },
  {
   "cell_type": "markdown",
   "id": "70fff25b",
   "metadata": {},
   "source": [
    "In order to be able to run the Jupyter notebooks in Google Colab, you need to do two things &mdash; install packages that are not preinstalled in Google Colab, and make locally stored data and functions accessible from the Google Colab environment."
   ]
  },
  {
   "cell_type": "markdown",
   "id": "966b5dd2",
   "metadata": {},
   "source": [
    "## Install missing packages\n",
    "\n",
    "Use the following lines of code to install packages that are missing by default, for example by including them at the beginning of the Jupyter notebook you intend to run."
   ]
  },
  {
   "cell_type": "code",
   "execution_count": null,
   "id": "b1c43997",
   "metadata": {},
   "outputs": [],
   "source": [
    "# example packages\n",
    "%pip install matplotlib\n",
    "%pip install pandas\n",
    "%pip install pandas_datareader\n",
    "%pip install eurostat"
   ]
  },
  {
   "cell_type": "markdown",
   "id": "418b599e",
   "metadata": {},
   "source": [
    "## Provide functions and data via Google Drive (preferred option)"
   ]
  },
  {
   "cell_type": "markdown",
   "id": "7edaf38c",
   "metadata": {},
   "source": [
    "Jupyter notebooks on this site use predefined functions stored in the <tt>econutil</tt> subfolder, data stored in the <tt>data</tt> subfolder, and graphs exported into the <tt>graphs/</tt> subfolder. The goal is to upload these folders from the GitHub repository to Google Drive, and then link Google Drive with Google Colab.\n",
    "\n",
    "<ol>\n",
    "    <li>Download the GitHub repository from <a href=\"https://github.com/jborovicka/nyu-computational-dynamics\">https://github.com/jborovicka/nyu-computational-dynamics</a> into a ZIP file by clicking on the green <tt>Code</tt> button top right and choosing <tt>Download ZIP</tt>.</li> \n",
    "    <li>Unzip the ZIP file to your computer. Within the unzipped files, locate the <tt>jupyter</tt> folder, and then subfolders <tt>econutil</tt>, <tt>data</tt>, and <tt>graphs</tt>.</li>\n",
    "    <li>Open your <a href=\"https://drive.google.com\">Google Drive</a> and upload the folders <tt>econutil</tt>, <tt>data</tt>, and <tt>graphs</tt> into the main Google Drive folder.</li>\n",
    "    <li>In Google Colab, run the lines below, for example by including them at the top of the Jupyter notebook that you are interested in running. This will mount the Google Drive folder into the Google Colab environment, and make it accessible from the Jupyter notebook. You will need to give Google Colab permissions to access the Google Drive. <b>Notice that this will mount your complete Google Drive, and make it visible within Google Colab.</li>\n",
    "</ol>"
   ]
  },
  {
   "cell_type": "code",
   "execution_count": null,
   "id": "1b9ed99a",
   "metadata": {},
   "outputs": [],
   "source": [
    "# code to mount google drive\n",
    "from google.colab import drive\n",
    "drive.mount('/content/gdrive/')\n",
    "import sys\n",
    "sys.path.append('/content/gdrive/MyDrive')"
   ]
  },
  {
   "cell_type": "markdown",
   "id": "5678d2b7",
   "metadata": {},
   "source": [
    "Within the Google Colab environment with the opened Jupyter notebook, you can verify that this was installed successfully by clicking on the folder icon in the column on the left. You should see the folder <tt>gdrive</tt> with subfolder <tt>MyDrive</tt> and further three subfolders <tt>econutil</tt>, <tt>data</tt>, and <tt>graphs</tt> (as well as other content from your Google Drive).\n",
    "\n",
    "Since the <tt>graphs</tt> subfolder for graph storage is on path <tt>gdrive/MyDrive/graphs/</tt>, you will need to use this path if you want your code to save graphs (or other output) to your Google Drive, for example when using the function <tt>fig.savefig</tt>."
   ]
  },
  {
   "cell_type": "markdown",
   "id": "5541b01a",
   "metadata": {},
   "source": [
    "## Provide functions and data via direct upload (not recommended)"
   ]
  },
  {
   "cell_type": "markdown",
   "id": "a8553ffd",
   "metadata": {},
   "source": [
    "The following steps copy the required folders <tt>econutil</tt>, <tt>data</tt>, and <tt>graphs</tt> manually into the Google Colab environment. You will need to repeat these steps every time you start a new session.\n",
    "\n",
    "<ol>\n",
    "    <li>Download the GitHub repository from <a href=\"https://github.com/jborovicka/nyu-computational-dynamics\">https://github.com/jborovicka/nyu-computational-dynamics</a> into a ZIP file by clicking on the green <tt>Code</tt> button top right and choosing <tt>Download ZIP</tt>.</li> \n",
    "    <li>Unzip the ZIP file to your computer. Within the unzipped files, locate the <tt>jupyter</tt> folder, and then subfolders <tt>econutil</tt>, <tt>data</tt>, and <tt>graphs</tt>.</li>\n",
    "    <li>In Google Colab, click on the folder icon on the left. In the folder pane that opened, create folders <tt>econutil</tt>, <tt>data</tt>, and <tt>graphs</tt>, and copy the content of the locally stored folders into the corresponding folders in Google Colab.</li>\n",
    "</ol>"
   ]
  },
  {
   "cell_type": "markdown",
   "id": "40ff32af",
   "metadata": {},
   "source": []
  }
 ],
 "metadata": {
  "kernelspec": {
   "display_name": "Python 3 (ipykernel)",
   "language": "python",
   "name": "python3"
  },
  "language_info": {
   "codemirror_mode": {
    "name": "ipython",
    "version": 3
   },
   "file_extension": ".py",
   "mimetype": "text/x-python",
   "name": "python",
   "nbconvert_exporter": "python",
   "pygments_lexer": "ipython3",
   "version": "3.9.17"
  }
 },
 "nbformat": 4,
 "nbformat_minor": 5
}
